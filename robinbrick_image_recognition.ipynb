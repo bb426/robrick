{
 "cells": [
  {
   "cell_type": "markdown",
   "metadata": {},
   "source": [
    "## 0. Abstract"
   ]
  },
  {
   "cell_type": "markdown",
   "metadata": {},
   "source": [
    "- 대상 : 오프라인 매장을 운영하는 유통업체(B2C)\n",
    "- 사용자 : 매장직원\n",
    "- 목표 : 제품 사진 촬영 시, 해당 제품을 인식하고 정보를 불러옴\n",
    "- 환경 : 제휴 논의 단계로 제공받은 데이터가 없는 상황에서 프로토타입 모델 제작이 필요"
   ]
  },
  {
   "cell_type": "markdown",
   "metadata": {},
   "source": [
    "## 1. Import libraries"
   ]
  },
  {
   "cell_type": "code",
   "execution_count": 105,
   "metadata": {},
   "outputs": [],
   "source": [
    "import numpy as np\n",
    "import matplotlib.pyplot as plt\n",
    "import collections\n",
    "from sklearn.metrics import confusion_matrix, classification_report\n",
    "\n",
    "import keras.optimizers as optimizers\n",
    "from keras.models import Sequential\n",
    "from keras.layers import Dense, Flatten, Dropout\n",
    "from keras.layers.convolutional import Conv2D, MaxPooling2D\n",
    "from keras.preprocessing.image import ImageDataGenerator, array_to_img, img_to_array, load_img\n",
    "\n",
    "\n",
    "import warnings\n",
    "warnings.filterwarnings('ignore')"
   ]
  },
  {
   "cell_type": "markdown",
   "metadata": {},
   "source": [
    "## 2. Collect data"
   ]
  },
  {
   "cell_type": "markdown",
   "metadata": {},
   "source": [
    "<img src=\"files/image/image_recognition_1.png\">"
   ]
  },
  {
   "cell_type": "markdown",
   "metadata": {},
   "source": [
    "- 대상 업체로부터 제공받은 데이터가 없으므로 수작업으로 이미지셋을 제작, 브라우저 확장프로그램으로 해당 브랜드의 제품군별로 이미지를 저장"
   ]
  },
  {
   "cell_type": "markdown",
   "metadata": {},
   "source": [
    "- 5개 제품군(Jacket, Skirt, T-shirt, Polo-shirt, Shoes) 총 1200개 이미지"
   ]
  },
  {
   "cell_type": "markdown",
   "metadata": {},
   "source": [
    "- 폴더트리, 트레인/테스트 별 각 5개 폴더"
   ]
  },
  {
   "cell_type": "markdown",
   "metadata": {},
   "source": [
    "## 3. Load data with data augmentation\n",
    "\n",
    "#### - 데이터의 양이 매우 적은 상황이므로 data augmentation 활용"
   ]
  },
  {
   "cell_type": "code",
   "execution_count": 57,
   "metadata": {},
   "outputs": [
    {
     "name": "stdout",
     "output_type": "stream",
     "text": [
      "Found 873 images belonging to 5 classes.\n",
      "Found 305 images belonging to 5 classes.\n"
     ]
    }
   ],
   "source": [
    "# Get train data and its augmented data\n",
    "train_datagen = ImageDataGenerator(rescale=1./255,\n",
    "                                   rotation_range=15, #randomly rotate images in 0~15 degrees\n",
    "                                   width_shift_range=0.1, #randomly translate images\n",
    "                                   height_shift_range=0.1, #randomly translate images\n",
    "                                   shear_range=0.1, #applying shearing\n",
    "                                   zoom_range=[0.8, 2.0],\n",
    "                                   horizontal_flip=True,\n",
    "                                   fill_mode='nearest')\n",
    "\n",
    "train_generator = train_datagen.flow_from_directory(\n",
    "        'd://image//train',\n",
    "        target_size=(150, 150),\n",
    "        batch_size=20,\n",
    "        class_mode='categorical') #multi-class classification\n",
    "\n",
    "# get test data\n",
    "test_datagen = ImageDataGenerator(rescale=1./255)\n",
    "\n",
    "test_generator = test_datagen.flow_from_directory(\n",
    "        'd://image//test',\n",
    "        target_size=(150, 150),    \n",
    "        batch_size=20,\n",
    "        class_mode='categorical')"
   ]
  },
  {
   "cell_type": "markdown",
   "metadata": {},
   "source": [
    "## 4. Define model"
   ]
  },
  {
   "cell_type": "code",
   "execution_count": 58,
   "metadata": {
    "scrolled": false
   },
   "outputs": [],
   "source": [
    "model = Sequential() # linear stacks of layers\n",
    "\n",
    "### first layer\n",
    "model.add(Conv2D(64, kernel_size=(3, 3), activation='relu', input_shape=(150, 150, 3)))\n",
    "\n",
    "\n",
    "### shrink dimensions of the previous layer to solve over-fitting problem\n",
    "model.add(MaxPooling2D(pool_size=(2, 2)))\n",
    "\n",
    "### second layer\n",
    "model.add(Conv2D(128, (3, 3), activation='relu'))\n",
    "model.add(Conv2D(128, (3, 3), activation='relu'))\n",
    "model.add(MaxPooling2D(pool_size=(2, 2)))\n",
    "\n",
    "### third layer\n",
    "model.add(Conv2D(256, (3, 3), activation='relu'))\n",
    "model.add(Conv2D(256, (3, 3), activation='relu'))\n",
    "model.add(Conv2D(256, (3, 3), activation='relu'))\n",
    "model.add(MaxPooling2D(pool_size=(2, 2)))\n",
    "       \n",
    "### fourth layer\n",
    "model.add(Conv2D(512, (3, 3), activation='relu'))\n",
    "model.add(Conv2D(512, (3, 3), activation='relu'))\n",
    "model.add(Conv2D(512, (3, 3), activation='relu'))\n",
    "model.add(MaxPooling2D(pool_size=(2, 2)))\n",
    "\n",
    "### Convert it to 1-dimension tensor (ventor)\n",
    "model.add(Flatten())\n",
    "model.add(Dropout(0.5))\n",
    "# fourth layer\n",
    "model.add(Dense(512, activation='relu'))\n",
    "\n",
    "# Output layer, it returns probabilities of samples being each class(there are 3 classes)\n",
    "model.add(Dense(5, activation='softmax'))"
   ]
  },
  {
   "cell_type": "code",
   "execution_count": 59,
   "metadata": {},
   "outputs": [],
   "source": [
    "model.compile(loss='categorical_crossentropy', optimizer=optimizers.RMSprop(lr=1e-4), metrics=['accuracy'])"
   ]
  },
  {
   "cell_type": "code",
   "execution_count": 60,
   "metadata": {},
   "outputs": [
    {
     "name": "stdout",
     "output_type": "stream",
     "text": [
      "Epoch 1/50\n",
      "100/100 [==============================] - 426s 4s/step - loss: 1.5676 - acc: 0.2399 - val_loss: 1.5708 - val_acc: 0.2911\n",
      "Epoch 2/50\n",
      "100/100 [==============================] - 416s 4s/step - loss: 1.5336 - acc: 0.3092 - val_loss: 1.5310 - val_acc: 0.3414\n",
      "Epoch 3/50\n",
      "100/100 [==============================] - 413s 4s/step - loss: 1.4721 - acc: 0.3532 - val_loss: 1.4703 - val_acc: 0.3560\n",
      "Epoch 4/50\n",
      "100/100 [==============================] - 420s 4s/step - loss: 1.4326 - acc: 0.3910 - val_loss: 1.4895 - val_acc: 0.3812\n",
      "Epoch 5/50\n",
      "100/100 [==============================] - 454s 5s/step - loss: 1.3781 - acc: 0.4104 - val_loss: 1.4110 - val_acc: 0.3780\n",
      "Epoch 6/50\n",
      "100/100 [==============================] - 467s 5s/step - loss: 1.3315 - acc: 0.4634 - val_loss: 1.4663 - val_acc: 0.3340\n",
      "Epoch 7/50\n",
      "100/100 [==============================] - 440s 4s/step - loss: 1.3001 - acc: 0.4613 - val_loss: 1.4347 - val_acc: 0.3581\n",
      "Epoch 8/50\n",
      "100/100 [==============================] - 457s 5s/step - loss: 1.2605 - acc: 0.4916 - val_loss: 1.3688 - val_acc: 0.4287\n",
      "Epoch 9/50\n",
      "100/100 [==============================] - 458s 5s/step - loss: 1.2654 - acc: 0.4897 - val_loss: 1.4019 - val_acc: 0.3801\n",
      "Epoch 10/50\n",
      "100/100 [==============================] - 443s 4s/step - loss: 1.1844 - acc: 0.5365 - val_loss: 1.3018 - val_acc: 0.4995\n",
      "Epoch 11/50\n",
      "100/100 [==============================] - 452s 5s/step - loss: 1.1549 - acc: 0.5466 - val_loss: 1.4507 - val_acc: 0.4073\n",
      "Epoch 12/50\n",
      "100/100 [==============================] - 465s 5s/step - loss: 1.1335 - acc: 0.5536 - val_loss: 1.2459 - val_acc: 0.5277\n",
      "Epoch 13/50\n",
      "100/100 [==============================] - 466s 5s/step - loss: 1.0821 - acc: 0.5803 - val_loss: 1.2373 - val_acc: 0.5026\n",
      "Epoch 14/50\n",
      "100/100 [==============================] - 448s 4s/step - loss: 1.0592 - acc: 0.5815 - val_loss: 1.3000 - val_acc: 0.4618\n",
      "Epoch 15/50\n",
      "100/100 [==============================] - 454s 5s/step - loss: 1.0471 - acc: 0.6007 - val_loss: 1.2764 - val_acc: 0.5037\n",
      "Epoch 16/50\n",
      "100/100 [==============================] - 448s 4s/step - loss: 0.9917 - acc: 0.6271 - val_loss: 1.2868 - val_acc: 0.4936\n",
      "Epoch 17/50\n",
      "100/100 [==============================] - 411s 4s/step - loss: 0.9800 - acc: 0.6145 - val_loss: 1.3104 - val_acc: 0.5120\n",
      "Epoch 18/50\n",
      "100/100 [==============================] - 413s 4s/step - loss: 0.9625 - acc: 0.6220 - val_loss: 1.2206 - val_acc: 0.5414\n",
      "Epoch 19/50\n",
      "100/100 [==============================] - 408s 4s/step - loss: 0.9277 - acc: 0.6479 - val_loss: 1.2174 - val_acc: 0.5424\n",
      "Epoch 20/50\n",
      "100/100 [==============================] - 412s 4s/step - loss: 0.8507 - acc: 0.6696 - val_loss: 1.1937 - val_acc: 0.5812\n",
      "Epoch 21/50\n",
      "100/100 [==============================] - 414s 4s/step - loss: 0.8453 - acc: 0.6785 - val_loss: 1.2892 - val_acc: 0.5173\n",
      "Epoch 22/50\n",
      "100/100 [==============================] - 416s 4s/step - loss: 0.8284 - acc: 0.6938 - val_loss: 1.3300 - val_acc: 0.5340\n",
      "Epoch 23/50\n",
      "100/100 [==============================] - 413s 4s/step - loss: 0.7953 - acc: 0.6843 - val_loss: 1.3227 - val_acc: 0.5592\n",
      "Epoch 24/50\n",
      "100/100 [==============================] - 416s 4s/step - loss: 0.7524 - acc: 0.7171 - val_loss: 1.4805 - val_acc: 0.5287\n",
      "Epoch 25/50\n",
      "100/100 [==============================] - 422s 4s/step - loss: 0.7407 - acc: 0.7171 - val_loss: 1.3928 - val_acc: 0.5361\n",
      "Epoch 26/50\n",
      "100/100 [==============================] - 31578s 316s/step - loss: 0.7326 - acc: 0.7257 - val_loss: 1.3799 - val_acc: 0.5592\n",
      "Epoch 27/50\n",
      "100/100 [==============================] - 424s 4s/step - loss: 0.7245 - acc: 0.7279 - val_loss: 1.1819 - val_acc: 0.5937\n",
      "Epoch 28/50\n",
      "100/100 [==============================] - 418s 4s/step - loss: 0.6778 - acc: 0.7393 - val_loss: 1.4701 - val_acc: 0.5843\n",
      "Epoch 29/50\n",
      "100/100 [==============================] - 435s 4s/step - loss: 0.6380 - acc: 0.7556 - val_loss: 1.3923 - val_acc: 0.5927\n",
      "Epoch 30/50\n",
      "100/100 [==============================] - 450s 5s/step - loss: 0.6218 - acc: 0.7711 - val_loss: 1.5226 - val_acc: 0.5634\n",
      "Epoch 31/50\n",
      "100/100 [==============================] - 453s 5s/step - loss: 0.6122 - acc: 0.7686 - val_loss: 1.4407 - val_acc: 0.6084\n",
      "Epoch 32/50\n",
      "100/100 [==============================] - 451s 5s/step - loss: 0.5815 - acc: 0.7877 - val_loss: 1.5573 - val_acc: 0.5819\n",
      "Epoch 33/50\n",
      "100/100 [==============================] - 451s 5s/step - loss: 0.5862 - acc: 0.7777 - val_loss: 1.5330 - val_acc: 0.5613\n",
      "Epoch 34/50\n",
      "100/100 [==============================] - 445s 4s/step - loss: 0.5441 - acc: 0.7949 - val_loss: 1.6263 - val_acc: 0.5665\n",
      "Epoch 35/50\n",
      "100/100 [==============================] - 465s 5s/step - loss: 0.5235 - acc: 0.8024 - val_loss: 1.4403 - val_acc: 0.6325\n",
      "Epoch 36/50\n",
      "100/100 [==============================] - 471s 5s/step - loss: 0.5173 - acc: 0.8026 - val_loss: 1.7372 - val_acc: 0.5885\n",
      "Epoch 37/50\n",
      "100/100 [==============================] - 463s 5s/step - loss: 0.4900 - acc: 0.8199 - val_loss: 1.5101 - val_acc: 0.5948\n",
      "Epoch 38/50\n",
      "100/100 [==============================] - 455s 5s/step - loss: 0.4586 - acc: 0.8232 - val_loss: 1.6705 - val_acc: 0.5801\n",
      "Epoch 39/50\n",
      "100/100 [==============================] - 457s 5s/step - loss: 0.4510 - acc: 0.8375 - val_loss: 1.6510 - val_acc: 0.5644\n",
      "Epoch 40/50\n",
      "100/100 [==============================] - 450s 4s/step - loss: 0.4419 - acc: 0.8412 - val_loss: 1.9999 - val_acc: 0.5755\n",
      "Epoch 41/50\n",
      "100/100 [==============================] - 434s 4s/step - loss: 0.4237 - acc: 0.8539 - val_loss: 1.7814 - val_acc: 0.5864\n",
      "Epoch 42/50\n",
      "100/100 [==============================] - 421s 4s/step - loss: 0.4229 - acc: 0.8552 - val_loss: 1.7069 - val_acc: 0.5874\n",
      "Epoch 43/50\n",
      "100/100 [==============================] - 415s 4s/step - loss: 0.4116 - acc: 0.8537 - val_loss: 1.7794 - val_acc: 0.5822\n",
      "Epoch 44/50\n",
      "100/100 [==============================] - 416s 4s/step - loss: 0.3890 - acc: 0.8628 - val_loss: 1.8104 - val_acc: 0.5874\n",
      "Epoch 45/50\n",
      "100/100 [==============================] - 420s 4s/step - loss: 0.4045 - acc: 0.8534 - val_loss: 2.0611 - val_acc: 0.5874\n",
      "Epoch 46/50\n",
      "100/100 [==============================] - 418s 4s/step - loss: 0.3549 - acc: 0.8684 - val_loss: 1.9629 - val_acc: 0.5843\n",
      "Epoch 47/50\n",
      "100/100 [==============================] - 413s 4s/step - loss: 0.3722 - acc: 0.8724 - val_loss: 1.7166 - val_acc: 0.6042\n",
      "Epoch 48/50\n",
      "100/100 [==============================] - 418s 4s/step - loss: 0.3592 - acc: 0.8767 - val_loss: 2.2055 - val_acc: 0.5926\n",
      "Epoch 49/50\n",
      "100/100 [==============================] - 415s 4s/step - loss: 0.3355 - acc: 0.8807 - val_loss: 1.7646 - val_acc: 0.5906\n",
      "Epoch 50/50\n",
      "100/100 [==============================] - 422s 4s/step - loss: 0.3286 - acc: 0.8814 - val_loss: 2.2414 - val_acc: 0.6168\n"
     ]
    }
   ],
   "source": [
    "history = model.fit_generator(train_generator,\n",
    "                              steps_per_epoch=100,\n",
    "                              epochs=50,\n",
    "                              validation_data=test_generator,\n",
    "                              validation_steps=50)"
   ]
  },
  {
   "cell_type": "code",
   "execution_count": 62,
   "metadata": {},
   "outputs": [
    {
     "data": {
      "image/png": "[encoded data removed]",
      "text/plain": [
       "<Figure size 432x288 with 1 Axes>"
      ]
     },
     "metadata": {
      "needs_background": "light"
     },
     "output_type": "display_data"
    },
    {
     "data": {
      "image/png": "[encoded data removed]",
      "text/plain": [
       "<Figure size 432x288 with 1 Axes>"
      ]
     },
     "metadata": {
      "needs_background": "light"
     },
     "output_type": "display_data"
    },
    {
     "name": "stdout",
     "output_type": "stream",
     "text": [
      "Training acc: 0.8827\n",
      "val acc: 0.6168\n"
     ]
    }
   ],
   "source": [
    "#Plot the Loss Curves and accuracy\n",
    "\n",
    "plt.plot(history.history['loss'],'b',linewidth=3.0, label='training loss')\n",
    "plt.plot(history.history['val_loss'],'r',linewidth=3.0, label='val loss')\n",
    "plt.title('Loss Curves',fontsize=11)\n",
    "plt.legend()\n",
    "\n",
    "plt.figure()\n",
    "plt.plot(history.history['acc'],'b',linewidth=3.0, label='training acc')\n",
    "plt.plot(history.history['val_acc'],'r',linewidth=3.0, label='val acc')\n",
    "plt.title('Accuracy',fontsize=11)\n",
    "plt.legend()\n",
    "plt.show()\n",
    "\n",
    "print(\"Training acc: {:.4f}\".format(history.history['acc'][-1]))\n",
    "print(\"val acc: {:.4f}\".format(history.history['val_acc'][-1]))"
   ]
  },
  {
   "cell_type": "code",
   "execution_count": 63,
   "metadata": {},
   "outputs": [],
   "source": [
    "model.save('five_class_classifier_1.h5')"
   ]
  },
  {
   "cell_type": "markdown",
   "metadata": {},
   "source": [
    "## 5. Diagnose misclassification"
   ]
  },
  {
   "cell_type": "markdown",
   "metadata": {},
   "source": [
    "컨퓨전 매트릭스 쓰기"
   ]
  },
  {
   "cell_type": "code",
   "execution_count": 108,
   "metadata": {},
   "outputs": [
    {
     "data": {
      "text/plain": [
       "Counter({2: 60, 0: 87, 3: 41, 1: 92, 4: 25})"
      ]
     },
     "execution_count": 108,
     "metadata": {},
     "output_type": "execute_result"
    }
   ],
   "source": [
    "y_pred_prob = model.predict_generator(test_generator, 16)\n",
    "collections.Counter(np.argmax(y_pred_prob, axis=1))"
   ]
  },
  {
   "cell_type": "code",
   "execution_count": 109,
   "metadata": {},
   "outputs": [
    {
     "name": "stdout",
     "output_type": "stream",
     "text": [
      "305 305\n"
     ]
    }
   ],
   "source": [
    "y_pred = np.argmax(y_pred_prob, axis=1)\n",
    "print(len(y_pred), len(test_generator.classes))"
   ]
  },
  {
   "cell_type": "code",
   "execution_count": 110,
   "metadata": {},
   "outputs": [
    {
     "data": {
      "text/plain": [
       "array([[24, 32, 18,  8,  8],\n",
       "       [13, 13, 14, 10,  5],\n",
       "       [25, 27, 16, 10,  8],\n",
       "       [15, 11,  7,  9,  1],\n",
       "       [10,  9,  5,  4,  3]], dtype=int64)"
      ]
     },
     "execution_count": 110,
     "metadata": {},
     "output_type": "execute_result"
    }
   ],
   "source": [
    "confusion_matrix(test_generator.classes, y_pred)"
   ]
  },
  {
   "cell_type": "code",
   "execution_count": 111,
   "metadata": {},
   "outputs": [
    {
     "name": "stdout",
     "output_type": "stream",
     "text": [
      "              precision    recall  f1-score   support\n",
      "\n",
      "      jacket       0.28      0.27      0.27        90\n",
      "        polo       0.14      0.24      0.18        55\n",
      "       shoes       0.27      0.19      0.22        86\n",
      "       skirt       0.22      0.21      0.21        43\n",
      "      tshirt       0.12      0.10      0.11        31\n",
      "\n",
      "    accuracy                           0.21       305\n",
      "   macro avg       0.20      0.20      0.20       305\n",
      "weighted avg       0.23      0.21      0.21       305\n",
      "\n"
     ]
    }
   ],
   "source": [
    "print(classification_report(test_generator.classes, y_pred, target_names=['jacket', 'polo','shoes', 'skirt', 'tshirt']))"
   ]
  },
  {
   "cell_type": "markdown",
   "metadata": {},
   "source": [
    "## 6. Add a pre-trained convet model "
   ]
  },
  {
   "cell_type": "code",
   "execution_count": 114,
   "metadata": {},
   "outputs": [
    {
     "name": "stdout",
     "output_type": "stream",
     "text": [
      "Downloading data from https://github.com/fchollet/deep-learning-models/releases/download/v0.2/resnet50_weights_tf_dim_ordering_tf_kernels_notop.h5\n",
      "94658560/94653016 [==============================] - 20s 0us/step\n"
     ]
    }
   ],
   "source": [
    "from keras.applications import resnet50\n",
    "\n",
    "resnet_model = resnet50.ResNet50(weights='imagenet', \n",
    "                                 include_top=False, #without classifier layers                     \n",
    "                                 input_shape=(150, 150, 3))"
   ]
  },
  {
   "cell_type": "code",
   "execution_count": 130,
   "metadata": {},
   "outputs": [
    {
     "name": "stdout",
     "output_type": "stream",
     "text": [
      "__________________________________________________________________________________________________\n",
      "Layer (type)                    Output Shape         Param #     Connected to                     \n",
      "==================================================================================================\n",
      "input_2 (InputLayer)            (None, 150, 150, 3)  0                                            \n",
      "__________________________________________________________________________________________________\n",
      "conv1_pad (ZeroPadding2D)       (None, 156, 156, 3)  0           input_2[0][0]                    \n",
      "__________________________________________________________________________________________________\n",
      "conv1 (Conv2D)                  (None, 75, 75, 64)   9472        conv1_pad[0][0]                  \n",
      "__________________________________________________________________________________________________\n",
      "bn_conv1 (BatchNormalization)   (None, 75, 75, 64)   256         conv1[0][0]                      \n",
      "__________________________________________________________________________________________________\n",
      "activation_50 (Activation)      (None, 75, 75, 64)   0           bn_conv1[0][0]                   \n",
      "__________________________________________________________________________________________________\n",
      "pool1_pad (ZeroPadding2D)       (None, 77, 77, 64)   0           activation_50[0][0]              \n",
      "__________________________________________________________________________________________________\n",
      "max_pooling2d_18 (MaxPooling2D) (None, 38, 38, 64)   0           pool1_pad[0][0]                  \n",
      "__________________________________________________________________________________________________\n",
      "res2a_branch2a (Conv2D)         (None, 38, 38, 64)   4160        max_pooling2d_18[0][0]           \n",
      "__________________________________________________________________________________________________\n",
      "bn2a_branch2a (BatchNormalizati (None, 38, 38, 64)   256         res2a_branch2a[0][0]             \n",
      "__________________________________________________________________________________________________\n",
      "activation_51 (Activation)      (None, 38, 38, 64)   0           bn2a_branch2a[0][0]              \n",
      "__________________________________________________________________________________________________\n",
      "res2a_branch2b (Conv2D)         (None, 38, 38, 64)   36928       activation_51[0][0]              \n",
      "__________________________________________________________________________________________________\n",
      "bn2a_branch2b (BatchNormalizati (None, 38, 38, 64)   256         res2a_branch2b[0][0]             \n",
      "__________________________________________________________________________________________________\n",
      "activation_52 (Activation)      (None, 38, 38, 64)   0           bn2a_branch2b[0][0]              \n",
      "__________________________________________________________________________________________________\n",
      "res2a_branch2c (Conv2D)         (None, 38, 38, 256)  16640       activation_52[0][0]              \n",
      "__________________________________________________________________________________________________\n",
      "res2a_branch1 (Conv2D)          (None, 38, 38, 256)  16640       max_pooling2d_18[0][0]           \n",
      "__________________________________________________________________________________________________\n",
      "bn2a_branch2c (BatchNormalizati (None, 38, 38, 256)  1024        res2a_branch2c[0][0]             \n",
      "__________________________________________________________________________________________________\n",
      "bn2a_branch1 (BatchNormalizatio (None, 38, 38, 256)  1024        res2a_branch1[0][0]              \n",
      "__________________________________________________________________________________________________\n",
      "add_17 (Add)                    (None, 38, 38, 256)  0           bn2a_branch2c[0][0]              \n",
      "                                                                 bn2a_branch1[0][0]               \n",
      "__________________________________________________________________________________________________\n",
      "activation_53 (Activation)      (None, 38, 38, 256)  0           add_17[0][0]                     \n",
      "__________________________________________________________________________________________________\n",
      "res2b_branch2a (Conv2D)         (None, 38, 38, 64)   16448       activation_53[0][0]              \n",
      "__________________________________________________________________________________________________\n",
      "bn2b_branch2a (BatchNormalizati (None, 38, 38, 64)   256         res2b_branch2a[0][0]             \n",
      "__________________________________________________________________________________________________\n",
      "activation_54 (Activation)      (None, 38, 38, 64)   0           bn2b_branch2a[0][0]              \n",
      "__________________________________________________________________________________________________\n",
      "res2b_branch2b (Conv2D)         (None, 38, 38, 64)   36928       activation_54[0][0]              \n",
      "__________________________________________________________________________________________________\n",
      "bn2b_branch2b (BatchNormalizati (None, 38, 38, 64)   256         res2b_branch2b[0][0]             \n",
      "__________________________________________________________________________________________________\n",
      "activation_55 (Activation)      (None, 38, 38, 64)   0           bn2b_branch2b[0][0]              \n",
      "__________________________________________________________________________________________________\n",
      "res2b_branch2c (Conv2D)         (None, 38, 38, 256)  16640       activation_55[0][0]              \n",
      "__________________________________________________________________________________________________\n",
      "bn2b_branch2c (BatchNormalizati (None, 38, 38, 256)  1024        res2b_branch2c[0][0]             \n",
      "__________________________________________________________________________________________________\n",
      "add_18 (Add)                    (None, 38, 38, 256)  0           bn2b_branch2c[0][0]              \n",
      "                                                                 activation_53[0][0]              \n",
      "__________________________________________________________________________________________________\n",
      "activation_56 (Activation)      (None, 38, 38, 256)  0           add_18[0][0]                     \n",
      "__________________________________________________________________________________________________\n",
      "res2c_branch2a (Conv2D)         (None, 38, 38, 64)   16448       activation_56[0][0]              \n",
      "__________________________________________________________________________________________________\n",
      "bn2c_branch2a (BatchNormalizati (None, 38, 38, 64)   256         res2c_branch2a[0][0]             \n",
      "__________________________________________________________________________________________________\n",
      "activation_57 (Activation)      (None, 38, 38, 64)   0           bn2c_branch2a[0][0]              \n",
      "__________________________________________________________________________________________________\n",
      "res2c_branch2b (Conv2D)         (None, 38, 38, 64)   36928       activation_57[0][0]              \n",
      "__________________________________________________________________________________________________\n",
      "bn2c_branch2b (BatchNormalizati (None, 38, 38, 64)   256         res2c_branch2b[0][0]             \n",
      "__________________________________________________________________________________________________\n",
      "activation_58 (Activation)      (None, 38, 38, 64)   0           bn2c_branch2b[0][0]              \n",
      "__________________________________________________________________________________________________\n",
      "res2c_branch2c (Conv2D)         (None, 38, 38, 256)  16640       activation_58[0][0]              \n",
      "__________________________________________________________________________________________________\n",
      "bn2c_branch2c (BatchNormalizati (None, 38, 38, 256)  1024        res2c_branch2c[0][0]             \n",
      "__________________________________________________________________________________________________\n",
      "add_19 (Add)                    (None, 38, 38, 256)  0           bn2c_branch2c[0][0]              \n",
      "                                                                 activation_56[0][0]              \n",
      "__________________________________________________________________________________________________\n",
      "activation_59 (Activation)      (None, 38, 38, 256)  0           add_19[0][0]                     \n",
      "__________________________________________________________________________________________________\n",
      "res3a_branch2a (Conv2D)         (None, 19, 19, 128)  32896       activation_59[0][0]              \n",
      "__________________________________________________________________________________________________\n",
      "bn3a_branch2a (BatchNormalizati (None, 19, 19, 128)  512         res3a_branch2a[0][0]             \n",
      "__________________________________________________________________________________________________\n",
      "activation_60 (Activation)      (None, 19, 19, 128)  0           bn3a_branch2a[0][0]              \n",
      "__________________________________________________________________________________________________\n",
      "res3a_branch2b (Conv2D)         (None, 19, 19, 128)  147584      activation_60[0][0]              \n",
      "__________________________________________________________________________________________________\n",
      "bn3a_branch2b (BatchNormalizati (None, 19, 19, 128)  512         res3a_branch2b[0][0]             \n",
      "__________________________________________________________________________________________________\n",
      "activation_61 (Activation)      (None, 19, 19, 128)  0           bn3a_branch2b[0][0]              \n",
      "__________________________________________________________________________________________________\n",
      "res3a_branch2c (Conv2D)         (None, 19, 19, 512)  66048       activation_61[0][0]              \n",
      "__________________________________________________________________________________________________\n",
      "res3a_branch1 (Conv2D)          (None, 19, 19, 512)  131584      activation_59[0][0]              \n",
      "__________________________________________________________________________________________________\n",
      "bn3a_branch2c (BatchNormalizati (None, 19, 19, 512)  2048        res3a_branch2c[0][0]             \n",
      "__________________________________________________________________________________________________\n",
      "bn3a_branch1 (BatchNormalizatio (None, 19, 19, 512)  2048        res3a_branch1[0][0]              \n",
      "__________________________________________________________________________________________________\n",
      "add_20 (Add)                    (None, 19, 19, 512)  0           bn3a_branch2c[0][0]              \n",
      "                                                                 bn3a_branch1[0][0]               \n",
      "__________________________________________________________________________________________________\n",
      "activation_62 (Activation)      (None, 19, 19, 512)  0           add_20[0][0]                     \n",
      "__________________________________________________________________________________________________\n",
      "res3b_branch2a (Conv2D)         (None, 19, 19, 128)  65664       activation_62[0][0]              \n",
      "__________________________________________________________________________________________________\n",
      "bn3b_branch2a (BatchNormalizati (None, 19, 19, 128)  512         res3b_branch2a[0][0]             \n",
      "__________________________________________________________________________________________________\n",
      "activation_63 (Activation)      (None, 19, 19, 128)  0           bn3b_branch2a[0][0]              \n",
      "__________________________________________________________________________________________________\n",
      "res3b_branch2b (Conv2D)         (None, 19, 19, 128)  147584      activation_63[0][0]              \n",
      "__________________________________________________________________________________________________\n",
      "bn3b_branch2b (BatchNormalizati (None, 19, 19, 128)  512         res3b_branch2b[0][0]             \n",
      "__________________________________________________________________________________________________\n",
      "activation_64 (Activation)      (None, 19, 19, 128)  0           bn3b_branch2b[0][0]              \n",
      "__________________________________________________________________________________________________\n",
      "res3b_branch2c (Conv2D)         (None, 19, 19, 512)  66048       activation_64[0][0]              \n",
      "__________________________________________________________________________________________________\n",
      "bn3b_branch2c (BatchNormalizati (None, 19, 19, 512)  2048        res3b_branch2c[0][0]             \n",
      "__________________________________________________________________________________________________\n",
      "add_21 (Add)                    (None, 19, 19, 512)  0           bn3b_branch2c[0][0]              \n",
      "                                                                 activation_62[0][0]              \n",
      "__________________________________________________________________________________________________\n",
      "activation_65 (Activation)      (None, 19, 19, 512)  0           add_21[0][0]                     \n",
      "__________________________________________________________________________________________________\n",
      "res3c_branch2a (Conv2D)         (None, 19, 19, 128)  65664       activation_65[0][0]              \n",
      "__________________________________________________________________________________________________\n",
      "bn3c_branch2a (BatchNormalizati (None, 19, 19, 128)  512         res3c_branch2a[0][0]             \n",
      "__________________________________________________________________________________________________\n",
      "activation_66 (Activation)      (None, 19, 19, 128)  0           bn3c_branch2a[0][0]              \n",
      "__________________________________________________________________________________________________\n",
      "res3c_branch2b (Conv2D)         (None, 19, 19, 128)  147584      activation_66[0][0]              \n",
      "__________________________________________________________________________________________________\n",
      "bn3c_branch2b (BatchNormalizati (None, 19, 19, 128)  512         res3c_branch2b[0][0]             \n",
      "__________________________________________________________________________________________________\n",
      "activation_67 (Activation)      (None, 19, 19, 128)  0           bn3c_branch2b[0][0]              \n",
      "__________________________________________________________________________________________________\n",
      "res3c_branch2c (Conv2D)         (None, 19, 19, 512)  66048       activation_67[0][0]              \n",
      "__________________________________________________________________________________________________\n",
      "bn3c_branch2c (BatchNormalizati (None, 19, 19, 512)  2048        res3c_branch2c[0][0]             \n",
      "__________________________________________________________________________________________________\n",
      "add_22 (Add)                    (None, 19, 19, 512)  0           bn3c_branch2c[0][0]              \n",
      "                                                                 activation_65[0][0]              \n",
      "__________________________________________________________________________________________________\n",
      "activation_68 (Activation)      (None, 19, 19, 512)  0           add_22[0][0]                     \n",
      "__________________________________________________________________________________________________\n",
      "res3d_branch2a (Conv2D)         (None, 19, 19, 128)  65664       activation_68[0][0]              \n",
      "__________________________________________________________________________________________________\n",
      "bn3d_branch2a (BatchNormalizati (None, 19, 19, 128)  512         res3d_branch2a[0][0]             \n",
      "__________________________________________________________________________________________________\n",
      "activation_69 (Activation)      (None, 19, 19, 128)  0           bn3d_branch2a[0][0]              \n",
      "__________________________________________________________________________________________________\n",
      "res3d_branch2b (Conv2D)         (None, 19, 19, 128)  147584      activation_69[0][0]              \n",
      "__________________________________________________________________________________________________\n",
      "bn3d_branch2b (BatchNormalizati (None, 19, 19, 128)  512         res3d_branch2b[0][0]             \n",
      "__________________________________________________________________________________________________\n",
      "activation_70 (Activation)      (None, 19, 19, 128)  0           bn3d_branch2b[0][0]              \n",
      "__________________________________________________________________________________________________\n",
      "res3d_branch2c (Conv2D)         (None, 19, 19, 512)  66048       activation_70[0][0]              \n",
      "__________________________________________________________________________________________________\n",
      "bn3d_branch2c (BatchNormalizati (None, 19, 19, 512)  2048        res3d_branch2c[0][0]             \n",
      "__________________________________________________________________________________________________\n",
      "add_23 (Add)                    (None, 19, 19, 512)  0           bn3d_branch2c[0][0]              \n",
      "                                                                 activation_68[0][0]              \n",
      "__________________________________________________________________________________________________\n",
      "activation_71 (Activation)      (None, 19, 19, 512)  0           add_23[0][0]                     \n",
      "__________________________________________________________________________________________________\n",
      "res4a_branch2a (Conv2D)         (None, 10, 10, 256)  131328      activation_71[0][0]              \n",
      "__________________________________________________________________________________________________\n",
      "bn4a_branch2a (BatchNormalizati (None, 10, 10, 256)  1024        res4a_branch2a[0][0]             \n",
      "__________________________________________________________________________________________________\n",
      "activation_72 (Activation)      (None, 10, 10, 256)  0           bn4a_branch2a[0][0]              \n",
      "__________________________________________________________________________________________________\n",
      "res4a_branch2b (Conv2D)         (None, 10, 10, 256)  590080      activation_72[0][0]              \n",
      "__________________________________________________________________________________________________\n",
      "bn4a_branch2b (BatchNormalizati (None, 10, 10, 256)  1024        res4a_branch2b[0][0]             \n",
      "__________________________________________________________________________________________________\n",
      "activation_73 (Activation)      (None, 10, 10, 256)  0           bn4a_branch2b[0][0]              \n",
      "__________________________________________________________________________________________________\n",
      "res4a_branch2c (Conv2D)         (None, 10, 10, 1024) 263168      activation_73[0][0]              \n",
      "__________________________________________________________________________________________________\n",
      "res4a_branch1 (Conv2D)          (None, 10, 10, 1024) 525312      activation_71[0][0]              \n",
      "__________________________________________________________________________________________________\n",
      "bn4a_branch2c (BatchNormalizati (None, 10, 10, 1024) 4096        res4a_branch2c[0][0]             \n",
      "__________________________________________________________________________________________________\n",
      "bn4a_branch1 (BatchNormalizatio (None, 10, 10, 1024) 4096        res4a_branch1[0][0]              \n",
      "__________________________________________________________________________________________________\n",
      "add_24 (Add)                    (None, 10, 10, 1024) 0           bn4a_branch2c[0][0]              \n",
      "                                                                 bn4a_branch1[0][0]               \n",
      "__________________________________________________________________________________________________\n",
      "activation_74 (Activation)      (None, 10, 10, 1024) 0           add_24[0][0]                     \n",
      "__________________________________________________________________________________________________\n",
      "res4b_branch2a (Conv2D)         (None, 10, 10, 256)  262400      activation_74[0][0]              \n",
      "__________________________________________________________________________________________________\n",
      "bn4b_branch2a (BatchNormalizati (None, 10, 10, 256)  1024        res4b_branch2a[0][0]             \n",
      "__________________________________________________________________________________________________\n",
      "activation_75 (Activation)      (None, 10, 10, 256)  0           bn4b_branch2a[0][0]              \n",
      "__________________________________________________________________________________________________\n",
      "res4b_branch2b (Conv2D)         (None, 10, 10, 256)  590080      activation_75[0][0]              \n",
      "__________________________________________________________________________________________________\n",
      "bn4b_branch2b (BatchNormalizati (None, 10, 10, 256)  1024        res4b_branch2b[0][0]             \n",
      "__________________________________________________________________________________________________\n",
      "activation_76 (Activation)      (None, 10, 10, 256)  0           bn4b_branch2b[0][0]              \n",
      "__________________________________________________________________________________________________\n",
      "res4b_branch2c (Conv2D)         (None, 10, 10, 1024) 263168      activation_76[0][0]              \n",
      "__________________________________________________________________________________________________\n",
      "bn4b_branch2c (BatchNormalizati (None, 10, 10, 1024) 4096        res4b_branch2c[0][0]             \n",
      "__________________________________________________________________________________________________\n",
      "add_25 (Add)                    (None, 10, 10, 1024) 0           bn4b_branch2c[0][0]              \n",
      "                                                                 activation_74[0][0]              \n",
      "__________________________________________________________________________________________________\n",
      "activation_77 (Activation)      (None, 10, 10, 1024) 0           add_25[0][0]                     \n",
      "__________________________________________________________________________________________________\n",
      "res4c_branch2a (Conv2D)         (None, 10, 10, 256)  262400      activation_77[0][0]              \n",
      "__________________________________________________________________________________________________\n",
      "bn4c_branch2a (BatchNormalizati (None, 10, 10, 256)  1024        res4c_branch2a[0][0]             \n",
      "__________________________________________________________________________________________________\n",
      "activation_78 (Activation)      (None, 10, 10, 256)  0           bn4c_branch2a[0][0]              \n",
      "__________________________________________________________________________________________________\n",
      "res4c_branch2b (Conv2D)         (None, 10, 10, 256)  590080      activation_78[0][0]              \n",
      "__________________________________________________________________________________________________\n",
      "bn4c_branch2b (BatchNormalizati (None, 10, 10, 256)  1024        res4c_branch2b[0][0]             \n",
      "__________________________________________________________________________________________________\n",
      "activation_79 (Activation)      (None, 10, 10, 256)  0           bn4c_branch2b[0][0]              \n",
      "__________________________________________________________________________________________________\n",
      "res4c_branch2c (Conv2D)         (None, 10, 10, 1024) 263168      activation_79[0][0]              \n",
      "__________________________________________________________________________________________________\n",
      "bn4c_branch2c (BatchNormalizati (None, 10, 10, 1024) 4096        res4c_branch2c[0][0]             \n",
      "__________________________________________________________________________________________________\n",
      "add_26 (Add)                    (None, 10, 10, 1024) 0           bn4c_branch2c[0][0]              \n",
      "                                                                 activation_77[0][0]              \n",
      "__________________________________________________________________________________________________\n",
      "activation_80 (Activation)      (None, 10, 10, 1024) 0           add_26[0][0]                     \n",
      "__________________________________________________________________________________________________\n",
      "res4d_branch2a (Conv2D)         (None, 10, 10, 256)  262400      activation_80[0][0]              \n",
      "__________________________________________________________________________________________________\n",
      "bn4d_branch2a (BatchNormalizati (None, 10, 10, 256)  1024        res4d_branch2a[0][0]             \n",
      "__________________________________________________________________________________________________\n",
      "activation_81 (Activation)      (None, 10, 10, 256)  0           bn4d_branch2a[0][0]              \n",
      "__________________________________________________________________________________________________\n",
      "res4d_branch2b (Conv2D)         (None, 10, 10, 256)  590080      activation_81[0][0]              \n",
      "__________________________________________________________________________________________________\n",
      "bn4d_branch2b (BatchNormalizati (None, 10, 10, 256)  1024        res4d_branch2b[0][0]             \n",
      "__________________________________________________________________________________________________\n",
      "activation_82 (Activation)      (None, 10, 10, 256)  0           bn4d_branch2b[0][0]              \n",
      "__________________________________________________________________________________________________\n",
      "res4d_branch2c (Conv2D)         (None, 10, 10, 1024) 263168      activation_82[0][0]              \n",
      "__________________________________________________________________________________________________\n",
      "bn4d_branch2c (BatchNormalizati (None, 10, 10, 1024) 4096        res4d_branch2c[0][0]             \n",
      "__________________________________________________________________________________________________\n",
      "add_27 (Add)                    (None, 10, 10, 1024) 0           bn4d_branch2c[0][0]              \n",
      "                                                                 activation_80[0][0]              \n",
      "__________________________________________________________________________________________________\n",
      "activation_83 (Activation)      (None, 10, 10, 1024) 0           add_27[0][0]                     \n",
      "__________________________________________________________________________________________________\n",
      "res4e_branch2a (Conv2D)         (None, 10, 10, 256)  262400      activation_83[0][0]              \n",
      "__________________________________________________________________________________________________\n",
      "bn4e_branch2a (BatchNormalizati (None, 10, 10, 256)  1024        res4e_branch2a[0][0]             \n",
      "__________________________________________________________________________________________________\n",
      "activation_84 (Activation)      (None, 10, 10, 256)  0           bn4e_branch2a[0][0]              \n",
      "__________________________________________________________________________________________________\n",
      "res4e_branch2b (Conv2D)         (None, 10, 10, 256)  590080      activation_84[0][0]              \n",
      "__________________________________________________________________________________________________\n",
      "bn4e_branch2b (BatchNormalizati (None, 10, 10, 256)  1024        res4e_branch2b[0][0]             \n",
      "__________________________________________________________________________________________________\n",
      "activation_85 (Activation)      (None, 10, 10, 256)  0           bn4e_branch2b[0][0]              \n",
      "__________________________________________________________________________________________________\n",
      "res4e_branch2c (Conv2D)         (None, 10, 10, 1024) 263168      activation_85[0][0]              \n",
      "__________________________________________________________________________________________________\n",
      "bn4e_branch2c (BatchNormalizati (None, 10, 10, 1024) 4096        res4e_branch2c[0][0]             \n",
      "__________________________________________________________________________________________________\n",
      "add_28 (Add)                    (None, 10, 10, 1024) 0           bn4e_branch2c[0][0]              \n",
      "                                                                 activation_83[0][0]              \n",
      "__________________________________________________________________________________________________\n",
      "activation_86 (Activation)      (None, 10, 10, 1024) 0           add_28[0][0]                     \n",
      "__________________________________________________________________________________________________\n",
      "res4f_branch2a (Conv2D)         (None, 10, 10, 256)  262400      activation_86[0][0]              \n",
      "__________________________________________________________________________________________________\n",
      "bn4f_branch2a (BatchNormalizati (None, 10, 10, 256)  1024        res4f_branch2a[0][0]             \n",
      "__________________________________________________________________________________________________\n",
      "activation_87 (Activation)      (None, 10, 10, 256)  0           bn4f_branch2a[0][0]              \n",
      "__________________________________________________________________________________________________\n",
      "res4f_branch2b (Conv2D)         (None, 10, 10, 256)  590080      activation_87[0][0]              \n",
      "__________________________________________________________________________________________________\n",
      "bn4f_branch2b (BatchNormalizati (None, 10, 10, 256)  1024        res4f_branch2b[0][0]             \n",
      "__________________________________________________________________________________________________\n",
      "activation_88 (Activation)      (None, 10, 10, 256)  0           bn4f_branch2b[0][0]              \n",
      "__________________________________________________________________________________________________\n",
      "res4f_branch2c (Conv2D)         (None, 10, 10, 1024) 263168      activation_88[0][0]              \n",
      "__________________________________________________________________________________________________\n",
      "bn4f_branch2c (BatchNormalizati (None, 10, 10, 1024) 4096        res4f_branch2c[0][0]             \n",
      "__________________________________________________________________________________________________\n",
      "add_29 (Add)                    (None, 10, 10, 1024) 0           bn4f_branch2c[0][0]              \n",
      "                                                                 activation_86[0][0]              \n",
      "__________________________________________________________________________________________________\n",
      "activation_89 (Activation)      (None, 10, 10, 1024) 0           add_29[0][0]                     \n",
      "__________________________________________________________________________________________________\n",
      "res5a_branch2a (Conv2D)         (None, 5, 5, 512)    524800      activation_89[0][0]              \n",
      "__________________________________________________________________________________________________\n",
      "bn5a_branch2a (BatchNormalizati (None, 5, 5, 512)    2048        res5a_branch2a[0][0]             \n",
      "__________________________________________________________________________________________________\n",
      "activation_90 (Activation)      (None, 5, 5, 512)    0           bn5a_branch2a[0][0]              \n",
      "__________________________________________________________________________________________________\n",
      "res5a_branch2b (Conv2D)         (None, 5, 5, 512)    2359808     activation_90[0][0]              \n",
      "__________________________________________________________________________________________________\n",
      "bn5a_branch2b (BatchNormalizati (None, 5, 5, 512)    2048        res5a_branch2b[0][0]             \n",
      "__________________________________________________________________________________________________\n",
      "activation_91 (Activation)      (None, 5, 5, 512)    0           bn5a_branch2b[0][0]              \n",
      "__________________________________________________________________________________________________\n",
      "res5a_branch2c (Conv2D)         (None, 5, 5, 2048)   1050624     activation_91[0][0]              \n",
      "__________________________________________________________________________________________________\n",
      "res5a_branch1 (Conv2D)          (None, 5, 5, 2048)   2099200     activation_89[0][0]              \n",
      "__________________________________________________________________________________________________\n",
      "bn5a_branch2c (BatchNormalizati (None, 5, 5, 2048)   8192        res5a_branch2c[0][0]             \n",
      "__________________________________________________________________________________________________\n",
      "bn5a_branch1 (BatchNormalizatio (None, 5, 5, 2048)   8192        res5a_branch1[0][0]              \n",
      "__________________________________________________________________________________________________\n",
      "add_30 (Add)                    (None, 5, 5, 2048)   0           bn5a_branch2c[0][0]              \n",
      "                                                                 bn5a_branch1[0][0]               \n",
      "__________________________________________________________________________________________________\n",
      "activation_92 (Activation)      (None, 5, 5, 2048)   0           add_30[0][0]                     \n",
      "__________________________________________________________________________________________________\n",
      "res5b_branch2a (Conv2D)         (None, 5, 5, 512)    1049088     activation_92[0][0]              \n",
      "__________________________________________________________________________________________________\n",
      "bn5b_branch2a (BatchNormalizati (None, 5, 5, 512)    2048        res5b_branch2a[0][0]             \n",
      "__________________________________________________________________________________________________\n",
      "activation_93 (Activation)      (None, 5, 5, 512)    0           bn5b_branch2a[0][0]              \n",
      "__________________________________________________________________________________________________\n",
      "res5b_branch2b (Conv2D)         (None, 5, 5, 512)    2359808     activation_93[0][0]              \n",
      "__________________________________________________________________________________________________\n",
      "bn5b_branch2b (BatchNormalizati (None, 5, 5, 512)    2048        res5b_branch2b[0][0]             \n",
      "__________________________________________________________________________________________________\n",
      "activation_94 (Activation)      (None, 5, 5, 512)    0           bn5b_branch2b[0][0]              \n",
      "__________________________________________________________________________________________________\n",
      "res5b_branch2c (Conv2D)         (None, 5, 5, 2048)   1050624     activation_94[0][0]              \n",
      "__________________________________________________________________________________________________\n",
      "bn5b_branch2c (BatchNormalizati (None, 5, 5, 2048)   8192        res5b_branch2c[0][0]             \n",
      "__________________________________________________________________________________________________\n",
      "add_31 (Add)                    (None, 5, 5, 2048)   0           bn5b_branch2c[0][0]              \n",
      "                                                                 activation_92[0][0]              \n",
      "__________________________________________________________________________________________________\n",
      "activation_95 (Activation)      (None, 5, 5, 2048)   0           add_31[0][0]                     \n",
      "__________________________________________________________________________________________________\n",
      "res5c_branch2a (Conv2D)         (None, 5, 5, 512)    1049088     activation_95[0][0]              \n",
      "__________________________________________________________________________________________________\n",
      "bn5c_branch2a (BatchNormalizati (None, 5, 5, 512)    2048        res5c_branch2a[0][0]             \n",
      "__________________________________________________________________________________________________\n",
      "activation_96 (Activation)      (None, 5, 5, 512)    0           bn5c_branch2a[0][0]              \n",
      "__________________________________________________________________________________________________\n",
      "res5c_branch2b (Conv2D)         (None, 5, 5, 512)    2359808     activation_96[0][0]              \n",
      "__________________________________________________________________________________________________\n",
      "bn5c_branch2b (BatchNormalizati (None, 5, 5, 512)    2048        res5c_branch2b[0][0]             \n",
      "__________________________________________________________________________________________________\n",
      "activation_97 (Activation)      (None, 5, 5, 512)    0           bn5c_branch2b[0][0]              \n",
      "__________________________________________________________________________________________________\n",
      "res5c_branch2c (Conv2D)         (None, 5, 5, 2048)   1050624     activation_97[0][0]              \n",
      "__________________________________________________________________________________________________\n",
      "bn5c_branch2c (BatchNormalizati (None, 5, 5, 2048)   8192        res5c_branch2c[0][0]             \n",
      "__________________________________________________________________________________________________\n",
      "add_32 (Add)                    (None, 5, 5, 2048)   0           bn5c_branch2c[0][0]              \n",
      "                                                                 activation_95[0][0]              \n",
      "__________________________________________________________________________________________________\n",
      "activation_98 (Activation)      (None, 5, 5, 2048)   0           add_32[0][0]                     \n",
      "==================================================================================================\n",
      "Total params: 23,587,712\n",
      "Trainable params: 23,534,592\n",
      "Non-trainable params: 53,120\n",
      "__________________________________________________________________________________________________\n"
     ]
    }
   ],
   "source": [
    "resnet_model.summary()\n",
    "# (None, 5, 5, 2048) : top layer의 dimension"
   ]
  },
  {
   "cell_type": "code",
   "execution_count": 153,
   "metadata": {},
   "outputs": [
    {
     "name": "stdout",
     "output_type": "stream",
     "text": [
      "873\n"
     ]
    }
   ],
   "source": [
    "train_sample_cnt = len(train_generator.classes)\n",
    "test_sample_cnt = len(test_generator.classes)\n",
    "print(train_sample_cnt)"
   ]
  },
  {
   "cell_type": "markdown",
   "metadata": {},
   "source": [
    "def feature_extraction(dir, sample_cnt):\n",
    "    features = np.zeros(shape=(sample_cnt, 5, 5, 2048))\n",
    "    labels = np.zeros(shape=(sample_cnt))\n",
    "    \n",
    "    image_gen = ImageDataGenerator(rescale=1./255)\n",
    "    batch_size=20\n",
    "    generator = image_gen.flow_from_directory(\n",
    "        dir,\n",
    "        target_size=(150, 150), \n",
    "        batch_size=batch_size,\n",
    "        class_mode='categorical')\n",
    "    \n",
    "    i=0\n",
    "    for inputs_batch, labels_batch in generator:\n",
    "        features_batch = resnet_model.predict(inputs_batch)\n",
    "        features[i*batch_size : (i+1)*batch_size] = features_batch\n",
    "        labels[i*batch_size : (i+1)*batch_size] = np.argmax(labels_batch, axis=1)\n",
    "        i+=1\n",
    "        if i*batch_size >= sample_cnt:\n",
    "            break\n",
    "        return features, labels"
   ]
  },
  {
   "cell_type": "markdown",
   "metadata": {},
   "source": [
    "train_features, train_labels = feature_extraction('d://image//train', train_sample_cnt)\n",
    "test_features, test_labels = feature_extraction('d://image//test', test_sample_cnt)"
   ]
  },
  {
   "cell_type": "markdown",
   "metadata": {},
   "source": [
    "train_labels = train_labels.astype('int')\n",
    "np.bincount(train_labels)"
   ]
  },
  {
   "cell_type": "markdown",
   "metadata": {},
   "source": [
    "train_features = np.reshape(train_features, (train_sample_cnt, 5*5*2048))\n",
    "test_features = np.reshape(test_features, (test_sample_cnt, 5*5*2048))"
   ]
  },
  {
   "cell_type": "markdown",
   "metadata": {
    "scrolled": true
   },
   "source": [
    "model_w_pretrained_base = Sequential()\n",
    "model_w_pretrained_base.add(Dense(256, activation='relu', input_dim=5*5*2048))\n",
    "model_w_pretrained_base.add(Dropout(.5))\n",
    "model_w_pretrained_base.add(Dense(1, activation='softmax'))\n",
    "\n",
    "model_w_pretrained_base.compile(loss='sparse_categorical_crossentropy', optimizer=optimizers.RMSprop(lr=1e-4), metrics=['accuracy'])\n",
    "history = model_w_pretrained_base.fit(train_features,\n",
    "                                      train_labels, \n",
    "                                      epochs=50, \n",
    "                                      batch_size=20, \n",
    "                                      validation_data=(test_features, test_labels))"
   ]
  },
  {
   "cell_type": "markdown",
   "metadata": {},
   "source": [
    "## Pretrained model with data augmentation"
   ]
  },
  {
   "cell_type": "markdown",
   "metadata": {},
   "source": [
    "# Get train data and its augmented data\n",
    "train_datagen = ImageDataGenerator(rescale=1./255,\n",
    "                                   rotation_range=15, #randomly rotate images in 0~15 degrees\n",
    "                                   width_shift_range=0.1, #randomly translate images\n",
    "                                   height_shift_range=0.1, #randomly translate images\n",
    "                                   shear_range=0.1, #applying shearing\n",
    "                                   zoom_range=[0.8, 2.0],\n",
    "                                   horizontal_flip=True,\n",
    "                                   fill_mode='nearest')\n",
    "\n",
    "train_generator = train_datagen.flow_from_directory(\n",
    "        'd://image//train',\n",
    "        target_size=(150, 150),\n",
    "        batch_size=20,\n",
    "        class_mode='categorical') #multi-class classification\n",
    "\n",
    "# get test data\n",
    "test_datagen = ImageDataGenerator(rescale=1./255)\n",
    "\n",
    "test_generator = test_datagen.flow_from_directory(\n",
    "        'd://image//test',\n",
    "        target_size=(150, 150),    \n",
    "        batch_size=20,\n",
    "        class_mode='categorical')\n",
    "        \n",
    "model_w_pretrained = Sequential()\n",
    "model_w_pretrained.add(resnet_model)\n",
    "model_w_pretrained.add(Flatten())\n",
    "model_w_pretrained.add(Dense(256, activation='relu'))\n",
    "model_w_pretrained.add(Dense(5, activation='softmax'))\n",
    "\n",
    "model_w_pretrained.compile(loss='categorical_crossentropy', optimizer=optimizers.RMSprop(lr=1e-4), metrics=['accuracy'])\n",
    "history = model_w_pretrained.fit_generator(train_generator,\n",
    "                                           steps_per_epoch=100,\n",
    "                                           epochs=50,\n",
    "                                           validation_data=test_generator,\n",
    "                                           validation_steps=50)\n",
    "                                           \n",
    "model_w_pretrained.save('five_class_classifier_2.h5')"
   ]
  },
  {
   "cell_type": "code",
   "execution_count": 194,
   "metadata": {},
   "outputs": [
    {
     "name": "stdout",
     "output_type": "stream",
     "text": [
      "Found 873 images belonging to 5 classes.\n",
      "Found 305 images belonging to 5 classes.\n"
     ]
    }
   ],
   "source": [
    "# Get train data and its augmented data\n",
    "train_datagen = ImageDataGenerator(rescale=1./255,\n",
    "                                   rotation_range=15, #randomly rotate images in 0~15 degrees\n",
    "                                   width_shift_range=0.1, #randomly translate images\n",
    "                                   height_shift_range=0.1, #randomly translate images\n",
    "                                   shear_range=0.1, #applying shearing\n",
    "                                   zoom_range=[0.8, 2.0],\n",
    "                                   horizontal_flip=True,\n",
    "                                   fill_mode='nearest')\n",
    "\n",
    "train_generator = train_datagen.flow_from_directory(\n",
    "        'd://image//train',\n",
    "        target_size=(150, 150),\n",
    "        batch_size=20,\n",
    "        class_mode='categorical') #multi-class classification\n",
    "\n",
    "# get test data\n",
    "test_datagen = ImageDataGenerator(rescale=1./255)\n",
    "\n",
    "test_generator = test_datagen.flow_from_directory(\n",
    "        'd://image//test',\n",
    "        target_size=(150, 150),    \n",
    "        batch_size=20,\n",
    "        class_mode='categorical')\n",
    "\n",
    "# build a model\n",
    "model_w_pretrained_drop = Sequential()\n",
    "model_w_pretrained_drop.add(resnet_model)\n",
    "model_w_pretrained_drop.add(Flatten())\n",
    "model_w_pretrained_drop.add(Dropout(.5))\n",
    "model_w_pretrained_drop.add(Dense(256, activation='relu'))\n",
    "model_w_pretrained_drop.add(Dense(5, activation='softmax'))\n",
    "\n",
    "resnet_model.trainable=False\n",
    "\n",
    "model_w_pretrained_drop.compile(loss='categorical_crossentropy', optimizer=optimizers.RMSprop(lr=1e-4), metrics=['accuracy'])\n",
    "history = model_w_pretrained_drop.fit_generator(train_generator,\n",
    "                                                steps_per_epoch=100,\n",
    "                                                epochs=50,\n",
    "                                                validation_data=test_generator,\n",
    "                                                validation_steps=50)"
   ]
  },
  {
   "cell_type": "code",
   "execution_count": 197,
   "metadata": {},
   "outputs": [
    {
     "data": {
      "image/png": "[encoded data removed]",
      "text/plain": [
       "<Figure size 432x288 with 1 Axes>"
      ]
     },
     "metadata": {
      "needs_background": "light"
     },
     "output_type": "display_data"
    },
    {
     "data": {
      "image/png": "[encoded data removed]",
      "text/plain": [
       "<Figure size 432x288 with 1 Axes>"
      ]
     },
     "metadata": {
      "needs_background": "light"
     },
     "output_type": "display_data"
    },
    {
     "name": "stdout",
     "output_type": "stream",
     "text": [
      "Training acc: 0.9748\n",
      "val acc: 0.2754\n"
     ]
    }
   ],
   "source": [
    "#Plot the Loss Curves and accuracy\n",
    "\n",
    "plt.plot(history.history['loss'],'b',linewidth=3.0, label='training loss')\n",
    "plt.plot(history.history['val_loss'],'r',linewidth=3.0, label='val loss')\n",
    "plt.title('Loss Curves',fontsize=11)\n",
    "plt.legend()\n",
    "\n",
    "plt.figure()\n",
    "plt.plot(history.history['acc'],'b',linewidth=3.0, label='training acc')\n",
    "plt.plot(history.history['val_acc'],'r',linewidth=3.0, label='val acc')\n",
    "plt.title('Accuracy',fontsize=11)\n",
    "plt.legend()\n",
    "plt.show()\n",
    "\n",
    "print(\"Training acc: {:.4f}\".format(history.history['acc'][-1]))\n",
    "print(\"val acc: {:.4f}\".format(history.history['val_acc'][-1]))"
   ]
  },
  {
   "cell_type": "code",
   "execution_count": null,
   "metadata": {},
   "outputs": [],
   "source": []
  }
 ],
 "metadata": {
  "kernelspec": {
   "display_name": "Python 3",
   "language": "python",
   "name": "python3"
  },
  "language_info": {
   "codemirror_mode": {
    "name": "ipython",
    "version": 3
   },
   "file_extension": ".py",
   "mimetype": "text/x-python",
   "name": "python",
   "nbconvert_exporter": "python",
   "pygments_lexer": "ipython3",
   "version": "3.7.3"
  }
 },
 "nbformat": 4,
 "nbformat_minor": 2
}
