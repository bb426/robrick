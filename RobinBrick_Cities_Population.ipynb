{
 "cells": [
  {
   "cell_type": "markdown",
   "metadata": {},
   "source": [
    "# Population of Cities around the world with population greater than 50,000."
   ]
  },
  {
   "cell_type": "code",
   "execution_count": 1,
   "metadata": {},
   "outputs": [],
   "source": [
    "import pandas as pd\n",
    "import requests\n",
    "import string\n",
    "from bs4 import BeautifulSoup\n",
    "from geopy.geocoders import Nominatim"
   ]
  },
  {
   "cell_type": "code",
   "execution_count": 20,
   "metadata": {},
   "outputs": [
    {
     "name": "stdout",
     "output_type": "stream",
     "text": [
      "              City   pop_2019             Country\n",
      "0         A Coruna    246,056               Spain\n",
      "1           Aachen    265,208             Germany\n",
      "2          Aalborg    122,219             Denmark\n",
      "3            Aalen     67,085             Germany\n",
      "4            Aalst     77,534             Belgium\n",
      "5              Aba    897,560             Nigeria\n",
      "6           Abadan    370,180                Iran\n",
      "7           Abadeh     56,988                Iran\n",
      "8       Abaetetuba     78,050              Brazil\n",
      "9        Abakaliki    134,102             Nigeria\n",
      "10          Abakan    167,289              Russia\n",
      "11         Abancay     55,111                Peru\n",
      "12      Abbotsford    151,683              Canada\n",
      "13      Abbottabad    120,000            Pakistan\n",
      "14          Abeche     74,188                Chad\n",
      "15      Abengourou    104,020         Ivory Coast\n",
      "16        Abeokuta    593,100             Nigeria\n",
      "17         Abepura     62,248           Indonesia\n",
      "18        Aberdeen    196,670      United Kingdom\n",
      "19            Abha    210,886        Saudi Arabia\n",
      "20           Abhar     69,889                Iran\n",
      "21         Abidjan  3,677,115         Ivory Coast\n",
      "22           Abiko    131,771               Japan\n",
      "23         Abilene    121,721       United States\n",
      "24           Abnub     68,749               Egypt\n",
      "25           Abobo    900,000         Ivory Coast\n",
      "26          Abohar    130,603               India\n",
      "27          Abomey     82,154               Benin\n",
      "28   Abomey-Calavi    385,755               Benin\n",
      "29    Abreu e Lima     81,959              Brazil\n",
      "..             ...        ...                 ...\n",
      "535     Aurangabad  1,016,441               India\n",
      "536         Aurora    200,661       United States\n",
      "537         Aurora    359,407       United States\n",
      "538         Austin    931,830       United States\n",
      "539          Avadi    250,044               India\n",
      "540          Avare     81,285              Brazil\n",
      "541         Aveiro     54,162            Portugal\n",
      "542         Aversa     52,830               Italy\n",
      "543        Avignon     89,769              France\n",
      "544          Avila     56,855               Spain\n",
      "545         Aviles     84,242               Spain\n",
      "546       Avondale     80,684       United States\n",
      "547           Awka    167,738             Nigeria\n",
      "548          Awsim     63,862               Egypt\n",
      "549       Ayacucho    140,033                Peru\n",
      "550          Aydin    163,022              Turkey\n",
      "551      Aylesbury     74,748      United Kingdom\n",
      "552        Ayvalik     70,002              Turkey\n",
      "553     Az Zawiyah    200,000               Libya\n",
      "554      Az Zubayr    122,676                Iraq\n",
      "555       Az Zulfi     53,144        Saudi Arabia\n",
      "556      Azadshahr    514,102                Iran\n",
      "557       Azamgarh    116,644               India\n",
      "558          Azare    105,687             Nigeria\n",
      "559   Azcapotzalco    414,711              Mexico\n",
      "560        Azimpur     96,641          Bangladesh\n",
      "561           Azov     82,133              Russia\n",
      "562           Azua     59,139  Dominican Republic\n",
      "563           Azul     53,941           Argentina\n",
      "564         Azzaba     75,317             Algeria\n",
      "\n",
      "[565 rows x 3 columns]\n",
      "Wall time: 4min 23s\n"
     ]
    }
   ],
   "source": [
    "%%time\n",
    "\n",
    "temp = []\n",
    "\n",
    "for i in string.ascii_lowercase:\n",
    "    url = 'http://worldpopulationreview.com/world-cities/starting-with-'+i\n",
    "    response = requests.get(url)\n",
    "    content = response.content\n",
    "    parser = BeautifulSoup(content, 'html.parser')\n",
    "    raw_data = parser.body\n",
    "    iteration = 1\n",
    "    \n",
    "    while iteration<len(raw_data.select('td'))/3:\n",
    "        temp.append([raw_data.select('td')[iteration*3].text, \n",
    "                     raw_data.select('td')[iteration*3+1].text, \n",
    "                     raw_data.select('td')[iteration*3+2].text\n",
    "                    ])\n",
    "        iteration+=1\n",
    "\n",
    "data = pd.DataFrame(temp, columns=['City', 'pop_2019', 'Country'])\n",
    "\n",
    "print(data)"
   ]
  }
 ],
 "metadata": {
  "kernelspec": {
   "display_name": "Python 3",
   "language": "python",
   "name": "python3"
  },
  "language_info": {
   "codemirror_mode": {
    "name": "ipython",
    "version": 3
   },
   "file_extension": ".py",
   "mimetype": "text/x-python",
   "name": "python",
   "nbconvert_exporter": "python",
   "pygments_lexer": "ipython3",
   "version": "3.7.2"
  }
 },
 "nbformat": 4,
 "nbformat_minor": 2
}
