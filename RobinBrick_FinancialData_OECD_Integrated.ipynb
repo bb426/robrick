{
 "cells": [
  {
   "cell_type": "code",
   "execution_count": 1,
   "metadata": {},
   "outputs": [],
   "source": [
    "import requests\n",
    "import pandas as pd\n",
    "import pandasdmx"
   ]
  },
  {
   "cell_type": "code",
   "execution_count": 2,
   "metadata": {},
   "outputs": [],
   "source": [
    "oecd = pandasdmx.Request('OECD')"
   ]
  },
  {
   "cell_type": "code",
   "execution_count": 3,
   "metadata": {},
   "outputs": [],
   "source": [
    "def financial_data_oecd(start_year, country_name_ISO3166):\n",
    "        \n",
    "    # 1. CLI - Composite Leading Indicators (monthly)\n",
    "    data_response = oecd.data(resource_id='MEI_CLI', key='all?startTime='+start_year)\n",
    "    CLI = data_response.write(data_response.data.series, parse_time=False)\n",
    "    CLI_result = CLI['LOLITOAA'][country_name_ISO3166]['M']\n",
    "    CLI_result.dropna(inplace=True)\n",
    "    \n",
    "    # 2. GDP - Quarterly National Account(Per Head, US$, current prices, current PPPs, seasonally adjusted)\n",
    "    data_response = oecd.data(resource_id='QNA', key='all?startTime='+start_year)\n",
    "    GDP = data_response.write(data_response.data.series, parse_time=False)\n",
    "    GDP_result = GDP[country_name_ISO3166]['B1_GE']['HCPCARSA']['Q']\n",
    "    GDP_result.dropna(inplace=True)\n",
    "    \n",
    "    # 3. Unemployment Rate(Monthly)\n",
    "    data_response = oecd.data(resource_id='STLABOUR', key='all?startTime='+start_year)\n",
    "    emp = data_response.write(data_response.data.series, parse_time=False)\n",
    "    emp_result = emp[country_name_ISO3166]['LRHUTTTT']['STSA']['M']\n",
    "    emp_result.dropna(inplace=True)\n",
    "    \n",
    "    # 4. Interest Rate - monthly long-term interest rates : MEI_FIN\n",
    "    data_response = oecd.data(resource_id='MEI_FIN', key='all?startTime='+start_year)\n",
    "    interest = data_response.write(data_response.data.series, parse_time=False)        \n",
    "    int_result = interest['IRLT'][country_name_ISO3166]['M']\n",
    "    int_result.dropna(inplace=True)\n",
    "    \n",
    "    # 5. Inflation Rate - Monthly Inflation rate\n",
    "    data_response = oecd.data(resource_id='KEI', key='all?startTime='+start_year)\n",
    "    inf_rate = data_response.write(data_response.data.series, parse_time=False)     \n",
    "    inf_result = inf_rate['CPALTT01'][country_name_ISO3166]['GP']['M']\n",
    "    inf_result.dropna(inplace=True)\n",
    "    \n",
    "#     result_dict = {'CLI' : CLI_result, \n",
    "#                    'GDP' : GDP_result, \n",
    "#                    'Unemployment rate' : emp_result, \n",
    "#                    'Interest rate' : int_result, \n",
    "#                    'Inflation rate' : inf_result \n",
    "#                   }\n",
    "    \n",
    "    monthly_data = {'CLI' : CLI_result, \n",
    "                    'Unemployment rate' : emp_result, \n",
    "                    'Interest rate' : int_result, \n",
    "                    'Inflation rate' : inf_result\n",
    "                   }\n",
    "    monthly_data = pd.DataFrame(monthly_data)\n",
    "    \n",
    "    quarterly_data = {'GDP' : GDP_result}\n",
    "    quarterly_data = pd.DataFrame(quarterly_data)\n",
    "    \n",
    "    return monthly_data, quarterly_data"
   ]
  },
  {
   "cell_type": "code",
   "execution_count": 38,
   "metadata": {
    "scrolled": true
   },
   "outputs": [],
   "source": [
    "# month_index, quart_gdp = financial_data_oecd('2017', 'KOR') ## Test Done!\n",
    "# month_index, quart_gdp = financial_data_oecd('2017', 'USA') ## Test Done!\n",
    "# month_index, quart_gdp = financial_data_oecd('2018', 'JPN') ## Test Done!\n",
    "# month_index, quart_gdp = financial_data_oecd('2017', 'FRA') ## Test Done!\n",
    "# month_index, quart_gdp = financial_data_oecd('2016', 'GBR') ## Test Done!"
   ]
  },
  {
   "cell_type": "code",
   "execution_count": 37,
   "metadata": {},
   "outputs": [
    {
     "name": "stdout",
     "output_type": "stream",
     "text": [
      "               CLI  Unemployment rate  Interest rate  Inflation rate\n",
      "2018-01  100.35260               16.4       1.473864       -1.078656\n",
      "2018-02  100.27800               16.2       1.517800        0.134220\n",
      "2018-03  100.18310               16.0       1.349619        0.118386\n",
      "2018-04  100.08310               15.6       1.218300        0.825768\n",
      "2018-05   99.98126               15.4       1.385818        0.901390\n",
      "2018-06   99.87412               15.2       1.372905        0.261277\n",
      "2018-07   99.75969               15.1       1.317545       -0.716640\n",
      "2018-08   99.64584               15.0       1.372391        0.142819\n",
      "2018-09   99.54126               14.8       1.441800        0.243794\n",
      "2018-10   99.46376               14.7       1.573565        0.924742\n",
      "2018-11   99.41589               14.5       1.582409       -0.109533\n",
      "2018-12   99.39223               14.3       1.432471       -0.449102\n",
      "2019-01   99.39173               14.1            NaN       -1.277717\n",
      "2019-02        NaN                NaN            NaN        0.243521\n",
      "\n",
      "\n",
      "\n",
      "                  GDP\n",
      "2018-Q1  40199.658727\n",
      "2018-Q2  40680.494575\n",
      "2018-Q3  40938.137978\n",
      "2018-Q4  41300.543951\n"
     ]
    }
   ],
   "source": [
    "month_index, quart_gdp = financial_data_oecd('2018', 'ESP')\n",
    "\n",
    "print(month_index)\n",
    "print('\\n\\n')\n",
    "print(quart_gdp)"
   ]
  },
  {
   "cell_type": "code",
   "execution_count": null,
   "metadata": {},
   "outputs": [],
   "source": []
  }
 ],
 "metadata": {
  "kernelspec": {
   "display_name": "Python 3",
   "language": "python",
   "name": "python3"
  },
  "language_info": {
   "codemirror_mode": {
    "name": "ipython",
    "version": 3
   },
   "file_extension": ".py",
   "mimetype": "text/x-python",
   "name": "python",
   "nbconvert_exporter": "python",
   "pygments_lexer": "ipython3",
   "version": "3.7.2"
  }
 },
 "nbformat": 4,
 "nbformat_minor": 2
}
